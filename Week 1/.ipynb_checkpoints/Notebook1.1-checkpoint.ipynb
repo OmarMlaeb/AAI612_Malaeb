{
 "cells": [
  {
   "cell_type": "markdown",
   "metadata": {
    "jp-MarkdownHeadingCollapsed": true
   },
   "source": [
    "\n",
    "# AAI612: Deep Learning & its Applications\n",
    "\n",
    "*Notebook 1.1: Using the perceptron for linear fitting*\n",
    "\n",
    "<a href=\"https://colab.research.google.com/github/harmanani/AAI612/blob/main/Week1/Notebook1.1.ipynb\" target=\"_parent\"><img src=\"https://colab.research.google.com/assets/colab-badge.svg\" alt=\"Open In Colab\"/></a>"
   ]
  },
  {
   "cell_type": "markdown",
   "metadata": {
    "id": "ZIAkIlfmCe1B"
   },
   "source": [
    "Notebook 1.1"
   ]
  },
  {
   "cell_type": "markdown",
   "metadata": {
    "id": "fA93WUy1zzWf"
   },
   "source": [
    "In this notebook, we will perform linear regression using a single neuron.  We will be using `TensorFlow` and `Keras`; however, do not worry about the details of the language for the moment as we will get back to these later on.\n",
    "\n",
    "The simple mode we will be looking at will learn the relationship between two numbers and will be used to predict other numbers. For example, if you were writing code for a function like this: \n",
    "\n",
    "\n",
    "```\n",
    "y = mx + b\n",
    "```\n",
    "\n",
    "How would you train a neural network to do the equivalent task? Well, we said using data, a lot of data! The approach is to feed the model with a set of Xs, and a set of Ys, it should be able to figure out the relationship between them. "
   ]
  },
  {
   "cell_type": "markdown",
   "metadata": {},
   "source": [
    "# Linear Regression "
   ]
  },
  {
   "cell_type": "markdown",
   "metadata": {},
   "source": [
    "Let us start by linear regression.   Assume we have the following simple dataset.  We can easily fit using `polyfit():`"
   ]
  },
  {
   "cell_type": "code",
   "execution_count": 1,
   "metadata": {},
   "outputs": [],
   "source": [
    "from numpy.polynomial.polynomial import polyfit\n",
    "import matplotlib.pyplot as plt\n",
    "import numpy as np\n",
    "\n",
    "\n",
    "x = np.array([ 0,  1,  2,  3,  4,  5,  6,  7,  8,  9])\n",
    "y = np.array([10, 20, 25, 30, 40, 45, 40, 50, 60, 55])"
   ]
  },
  {
   "cell_type": "markdown",
   "metadata": {},
   "source": [
    "Let us explore the data!"
   ]
  },
  {
   "cell_type": "code",
   "execution_count": 2,
   "metadata": {},
   "outputs": [
    {
     "data": {
      "image/png": "[encoded data removed]",
      "text/plain": [
       "<Figure size 640x480 with 1 Axes>"
      ]
     },
     "metadata": {},
     "output_type": "display_data"
    }
   ],
   "source": [
    "plt.plot(x, y, '.')\n",
    "plt.show()"
   ]
  },
  {
   "cell_type": "markdown",
   "metadata": {},
   "source": [
    "Now, let us see how we can best fit this data using the `polyfit`:"
   ]
  },
  {
   "cell_type": "code",
   "execution_count": 3,
   "metadata": {},
   "outputs": [],
   "source": [
    "b, m = polyfit(x,y,1)\n",
    "\n",
    "y_hat = m*x+b"
   ]
  },
  {
   "cell_type": "markdown",
   "metadata": {},
   "source": [
    "The above data fit results with the following equation:"
   ]
  },
  {
   "cell_type": "code",
   "execution_count": null,
   "metadata": {},
   "outputs": [],
   "source": [
    "print(\"Equation that best fits the data is: Y = %2.2f * x + %5.2f\" % (m,b))"
   ]
  },
  {
   "cell_type": "markdown",
   "metadata": {},
   "source": [
    "and now, let us see how it fits visually:"
   ]
  },
  {
   "cell_type": "code",
   "execution_count": 4,
   "metadata": {},
   "outputs": [
    {
     "data": {
      "image/png": "[encoded data removed]",
      "text/plain": [
       "<Figure size 640x480 with 1 Axes>"
      ]
     },
     "metadata": {},
     "output_type": "display_data"
    }
   ],
   "source": [
    "plt.plot(x, y, '.')\n",
    "plt.plot(x, y_hat, '-')\n",
    "plt.show()"
   ]
  },
  {
   "cell_type": "markdown",
   "metadata": {},
   "source": [
    "Let us predict y for x = 10"
   ]
  },
  {
   "cell_type": "code",
   "execution_count": 5,
   "metadata": {},
   "outputs": [
    {
     "name": "stdout",
     "output_type": "stream",
     "text": [
      "65.66666666666664\n"
     ]
    }
   ],
   "source": [
    "x = 10\n",
    "print(m*x+b)"
   ]
  },
  {
   "cell_type": "markdown",
   "metadata": {},
   "source": [
    "Now, let us try this all over again using one neuron.  We will be using `Keras` and `TesnorFlow`."
   ]
  },
  {
   "cell_type": "markdown",
   "metadata": {
    "id": "DzbtdRcZDO9B"
   },
   "source": [
    "## Imports\n",
    "\n",
    "Let's start with our imports. Here we are importing 'TensorFlow' and calling it tf for ease of use.  We do of course need to import `numpy`, which helps us to represent our data as lists easily and quickly.  Finally, the framework for defining a neural network as a set of Sequential layers is called keras, so we import that too."
   ]
  },
  {
   "cell_type": "code",
   "execution_count": 6,
   "metadata": {
    "id": "X9uIpOS2zx7k"
   },
   "outputs": [
    {
     "name": "stdout",
     "output_type": "stream",
     "text": [
      "2.13.0-rc1\n"
     ]
    }
   ],
   "source": [
    "import tensorflow as tf\n",
    "import numpy as np\n",
    "from tensorflow import keras\n",
    "\n",
    "print(tf.__version__)"
   ]
  },
  {
   "cell_type": "markdown",
   "metadata": {
    "id": "wwJGmDrQ0EoB"
   },
   "source": [
    "## Define and Compile the Neural Network\n",
    "\n",
    "Next we will create the simplest possible neural network. It has 1 layer, and that layer has 1 neuron, and the input shape to it is just 1 value."
   ]
  },
  {
   "cell_type": "code",
   "execution_count": 7,
   "metadata": {
    "id": "kQFAr_xo0M4T"
   },
   "outputs": [],
   "source": [
    "model = tf.keras.Sequential([keras.layers.Dense(units=1, input_shape=[1])])"
   ]
  },
  {
   "cell_type": "markdown",
   "metadata": {
    "id": "KhjZjZ-c0Ok9"
   },
   "source": [
    "Now we compile our Neural Network. When we do so, we have to specify 2 functions, a loss and an optimizer.\n",
    "\n",
    "If you've seen lots of math for machine learning, here's where it's usually used, but in this case it's nicely encapsulated in functions for you. But what happens here — let's explain...\n",
    "\n",
    "We know that in our function, the relationship between the numbers is Y = 5.12 * x + 14.45. \n",
    "\n",
    "When the computer is trying to 'learn' that, it makes a guess...maybe y=10x+10. The LOSS function measures the guessed answers against the known correct answers and measures how well or how badly it did.\n",
    "\n",
    "It then uses the OPTIMIZER function to make another guess. Based on how the loss function went, it will try to minimize the loss. At that point maybe it will come up with somehting like y=5x+5, which, while still pretty bad, is closer to the correct result (i.e. the loss is lower)\n",
    "\n",
    "It will repeat this for the number of EPOCHS which you will see shortly. But first, here's how we tell it to use 'MEAN SQUARED ERROR' for the loss and 'STOCHASTIC GRADIENT DESCENT' for the optimizer. You don't need to understand the math for these yet, but you can see that they work! :)\n",
    "\n",
    "Over time you will learn the different and appropriate loss and optimizer functions for different scenarios. \n"
   ]
  },
  {
   "cell_type": "code",
   "execution_count": 8,
   "metadata": {
    "id": "m8YQN1H41L-Y"
   },
   "outputs": [],
   "source": [
    "model.compile(optimizer='sgd', loss='mean_squared_error')"
   ]
  },
  {
   "cell_type": "markdown",
   "metadata": {
    "id": "5QyOUhFw1OUX"
   },
   "source": [
    "## Providing the Data\n",
    "\n",
    "Next up we'll feed in some data. In this case we are taking 6 xs and 6ys. You can see that the relationship between these is that y=2x-1, so where x = -1, y=-3 etc. etc. \n",
    "\n",
    "A python library called 'Numpy' provides lots of array type data structures that are a defacto standard way of doing it. We declare that we want to use these by specifying the values as an np.array[]"
   ]
  },
  {
   "cell_type": "markdown",
   "metadata": {},
   "source": [
    "### Let us try this dataset!"
   ]
  },
  {
   "cell_type": "markdown",
   "metadata": {},
   "source": [
    "Comment the above data set and try this one now:"
   ]
  },
  {
   "cell_type": "code",
   "execution_count": 9,
   "metadata": {},
   "outputs": [],
   "source": [
    "xs = np.array([ 0,  1,  2,  3,  4,  5,  6,  7,  8,  9])\n",
    "ys = np.array([10, 20, 25, 30, 40, 45, 40, 50, 60, 55])"
   ]
  },
  {
   "cell_type": "markdown",
   "metadata": {
    "id": "n_YcWRElnM_b"
   },
   "source": [
    "# Training the Neural Network"
   ]
  },
  {
   "cell_type": "markdown",
   "metadata": {
    "id": "c-Jk4dG91dvD"
   },
   "source": [
    "The process of training the neural network, where it 'learns' the relationship between the Xs and Ys is in the **model.fit**  call. This is where it will go through the loop we spoke about above, making a guess, measuring how good or bad it is (aka the loss), using the opimizer to make another guess etc. It will do it for the number of epochs you specify. When you run this code, you'll see the loss on the right hand side."
   ]
  },
  {
   "cell_type": "code",
   "execution_count": 10,
   "metadata": {
    "id": "lpRrl7WK10Pq"
   },
   "outputs": [],
   "source": [
    "from keras.callbacks import History \n",
    "history = History()\n",
    "\n",
    "x = model.fit(xs, ys, epochs=500, callbacks=[history], verbose=0)"
   ]
  },
  {
   "cell_type": "markdown",
   "metadata": {
    "id": "kaFIr71H2OZ-"
   },
   "source": [
    "Ok, that we have a model that we have trained to learn the relationship between X and Y, we can use the **model.predict** method to have it figure out the Y for a previously unknown X. So, for example, if X = 2, what do you think Y will be? Take a guess before you run this code:"
   ]
  },
  {
   "cell_type": "code",
   "execution_count": 11,
   "metadata": {},
   "outputs": [
    {
     "name": "stdout",
     "output_type": "stream",
     "text": [
      "{'loss': [1442.078857421875, 303.7044982910156, 106.5599365234375, 72.03011322021484, 65.599365234375, 64.0283203125, 63.302040100097656, 62.726829528808594, 62.182769775390625, 61.64910888671875, 61.12220001220703, 60.601341247558594, 60.086387634277344, 59.57722091674805, 59.073814392089844, 58.5760612487793, 58.08390426635742, 57.597312927246094, 57.116180419921875, 56.640480041503906, 56.170127868652344, 55.705078125, 55.245262145996094, 54.79063034057617, 54.34111785888672, 53.89666748046875, 53.45722198486328, 53.022727966308594, 52.5931282043457, 52.168373107910156, 51.748390197753906, 51.33313751220703, 50.92256164550781, 50.5166130065918, 50.11522674560547, 49.7183837890625, 49.32598876953125, 48.938018798828125, 48.55442428588867, 48.175140380859375, 47.80014419555664, 47.42936325073242, 47.06275177001953, 46.70027160644531, 46.34189224243164, 45.987525939941406, 45.637168884277344, 45.290740966796875, 44.9482307434082, 44.609554290771484, 44.27471160888672, 43.943634033203125, 43.61628723144531, 43.29262924194336, 42.97261428833008, 42.656211853027344, 42.343360900878906, 42.034034729003906, 41.728187561035156, 41.42580032348633, 41.12680435180664, 40.83116912841797, 40.53888702392578, 40.24988555908203, 39.964141845703125, 39.681602478027344, 39.40227127075195, 39.126068115234375, 38.85298156738281, 38.582969665527344, 38.31599807739258, 38.05201721191406, 37.79104232788086, 37.53298568725586, 37.27783966064453, 37.02556610107422, 36.77614212036133, 36.529510498046875, 36.285667419433594, 36.04456329345703, 35.806182861328125, 35.57048416137695, 35.33745193481445, 35.107017517089844, 34.879207611083984, 34.65393829345703, 34.43122100830078, 34.21100997924805, 33.9932746887207, 33.77800369262695, 33.565147399902344, 33.354679107666016, 33.1465950012207, 32.94085693359375, 32.73741912841797, 32.536293029785156, 32.337425231933594, 32.14078140258789, 31.946369171142578, 31.7541446685791, 31.564083099365234, 31.376163482666016, 31.190357208251953, 31.006641387939453, 30.825002670288086, 30.645404815673828, 30.46782875061035, 30.292266845703125, 30.118671417236328, 29.947021484375, 29.777313232421875, 29.609521865844727, 29.4436092376709, 29.279577255249023, 29.11737632751465, 28.957015991210938, 28.798452377319336, 28.64168930053711, 28.486669540405273, 28.33341407775879, 28.181884765625, 28.032052993774414, 27.8839168548584, 27.7374324798584, 27.592620849609375, 27.44942855834961, 27.3078556060791, 27.167858123779297, 27.029460906982422, 26.89261245727539, 26.757299423217773, 26.62351417541504, 26.49123191833496, 26.360454559326172, 26.231143951416016, 26.1032772064209, 25.976858139038086, 25.85186767578125, 25.728282928466797, 25.606088638305664, 25.485267639160156, 25.36581802368164, 25.24770736694336, 25.130924224853516, 25.015457153320312, 24.901296615600586, 24.78842544555664, 24.676803588867188, 24.566457748413086, 24.457340240478516, 24.349468231201172, 24.242795944213867, 24.137332916259766, 24.03305435180664, 23.92994499206543, 23.82802391052246, 23.727230072021484, 23.627578735351562, 23.529035568237305, 23.431615829467773, 23.335285186767578, 23.240041732788086, 23.1458740234375, 23.05276107788086, 22.960704803466797, 22.869674682617188, 22.779678344726562, 22.690692901611328, 22.60270881652832, 22.51572036743164, 22.429710388183594, 22.344667434692383, 22.260576248168945, 22.177440643310547, 22.095239639282227, 22.013961791992188, 21.933597564697266, 21.854137420654297, 21.775575637817383, 21.697900772094727, 21.621103286743164, 21.545169830322266, 21.4700870513916, 21.395854949951172, 21.322452545166016, 21.2498722076416, 21.178119659423828, 21.107173919677734, 21.037033081054688, 20.96767807006836, 20.899099349975586, 20.831289291381836, 20.764244079589844, 20.697969436645508, 20.63241958618164, 20.5676212310791, 20.503543853759766, 20.440196990966797, 20.3775634765625, 20.315631866455078, 20.254404067993164, 20.193849563598633, 20.133991241455078, 20.07480239868164, 20.01628303527832, 19.958419799804688, 19.90120506286621, 19.844635009765625, 19.788711547851562, 19.733407974243164, 19.678733825683594, 19.62468147277832, 19.571226119995117, 19.518375396728516, 19.466121673583984, 19.414459228515625, 19.363374710083008, 19.312862396240234, 19.262928009033203, 19.213552474975586, 19.164730072021484, 19.116445541381836, 19.068735122680664, 19.021533966064453, 18.97488021850586, 18.928747177124023, 18.88313865661621, 18.838035583496094, 18.79344367980957, 18.749359130859375, 18.70575523376465, 18.662656784057617, 18.620044708251953, 18.577903747558594, 18.536239624023438, 18.495046615600586, 18.454334259033203, 18.414051055908203, 18.374237060546875, 18.33486557006836, 18.295948028564453, 18.257455825805664, 18.21941566467285, 18.181777954101562, 18.144573211669922, 18.107797622680664, 18.071428298950195, 18.035470962524414, 17.999921798706055, 17.964773178100586, 17.930011749267578, 17.895647048950195, 17.86167335510254, 17.828075408935547, 17.794857025146484, 17.762012481689453, 17.729549407958984, 17.697444915771484, 17.665695190429688, 17.634302139282227, 17.603267669677734, 17.57258415222168, 17.542240142822266, 17.51224136352539, 17.482585906982422, 17.453258514404297, 17.42426109313965, 17.395593643188477, 17.367246627807617, 17.339221954345703, 17.311511993408203, 17.284114837646484, 17.25702476501465, 17.23023796081543, 17.203760147094727, 17.177574157714844, 17.15167236328125, 17.126079559326172, 17.100767135620117, 17.07575798034668, 17.051006317138672, 17.026546478271484, 17.002355575561523, 16.97843360900879, 16.954788208007812, 16.93140411376953, 16.90828514099121, 16.885419845581055, 16.862831115722656, 16.840486526489258, 16.818389892578125, 16.79654312133789, 16.774951934814453, 16.753591537475586, 16.73247718811035, 16.711597442626953, 16.69095802307129, 16.670549392700195, 16.65036392211914, 16.63041114807129, 16.61068344116211, 16.591182708740234, 16.571895599365234, 16.552827835083008, 16.53396987915039, 16.51532554626465, 16.496904373168945, 16.478668212890625, 16.460651397705078, 16.44284439086914, 16.425220489501953, 16.407808303833008, 16.390583038330078, 16.37356185913086, 16.35671615600586, 16.34008026123047, 16.32362174987793, 16.307342529296875, 16.291250228881836, 16.27535057067871, 16.25961685180664, 16.244060516357422, 16.22869110107422, 16.213481903076172, 16.19845199584961, 16.183584213256836, 16.16889190673828, 16.15436363220215, 16.139997482299805, 16.125789642333984, 16.111745834350586, 16.097862243652344, 16.084131240844727, 16.07054328918457, 16.057132720947266, 16.043853759765625, 16.030744552612305, 16.017763137817383, 16.004940032958984, 15.992256164550781, 15.979715347290039, 15.967310905456543, 15.955050468444824, 15.94293212890625, 15.930948257446289, 15.919095993041992, 15.907384872436523, 15.895792007446289, 15.8843412399292, 15.873018264770508, 15.861822128295898, 15.850749015808105, 15.839805603027344, 15.82897663116455, 15.818280220031738, 15.807695388793945, 15.79723834991455, 15.786890029907227, 15.776662826538086, 15.766546249389648, 15.756550788879395, 15.746663093566895, 15.736894607543945, 15.727228164672852, 15.717672348022461, 15.708224296569824, 15.698878288269043, 15.6896390914917, 15.680509567260742, 15.671476364135742, 15.662556648254395, 15.653715133666992, 15.644994735717773, 15.63636589050293, 15.627832412719727, 15.619400024414062, 15.611053466796875, 15.602806091308594, 15.594653129577637, 15.586596488952637, 15.578619003295898, 15.570737838745117, 15.562944412231445, 15.555246353149414, 15.547622680664062, 15.540090560913086, 15.532641410827637, 15.525283813476562, 15.518000602722168, 15.510795593261719, 15.503677368164062, 15.49664306640625, 15.4896879196167, 15.48280143737793, 15.47599983215332, 15.469273567199707, 15.462625503540039, 15.456037521362305, 15.449546813964844, 15.443115234375, 15.436762809753418, 15.43048095703125, 15.42426872253418, 15.418126106262207, 15.41204833984375, 15.406046867370605, 15.400102615356445, 15.394233703613281, 15.38843059539795, 15.382685661315918, 15.37701416015625, 15.371400833129883, 15.36584758758545, 15.360372543334961, 15.354939460754395, 15.349575996398926, 15.344281196594238, 15.33903980255127, 15.333852767944336, 15.328725814819336, 15.323659896850586, 15.318647384643555, 15.313695907592773, 15.308796882629395, 15.30395221710205, 15.299158096313477, 15.294431686401367, 15.289746284484863, 15.285120964050293, 15.280543327331543, 15.276016235351562, 15.271543502807617, 15.267125129699707, 15.262743949890137, 15.258424758911133, 15.254144668579102, 15.249918937683105, 15.24574089050293, 15.241604804992676, 15.237521171569824, 15.233480453491211, 15.229486465454102, 15.225530624389648, 15.22162914276123, 15.217768669128418, 15.213949203491211, 15.210172653198242, 15.206454277038574, 15.202754020690918, 15.19910717010498, 15.195497512817383, 15.191940307617188, 15.188403129577637, 15.184918403625488, 15.181472778320312, 15.178054809570312, 15.17469310760498, 15.171353340148926, 15.168063163757324, 15.164800643920898, 15.161587715148926, 15.15839672088623, 15.155252456665039, 15.152137756347656, 15.14905834197998, 15.146013259887695, 15.142999649047852, 15.140022277832031, 15.13708782196045, 15.134176254272461, 15.131296157836914, 15.128454208374023, 15.125648498535156, 15.122858047485352, 15.120112419128418, 15.117388725280762, 15.114705085754395, 15.11205005645752, 15.109423637390137, 15.106831550598145, 15.104253768920898, 15.101717948913574, 15.099206924438477, 15.096720695495605, 15.094274520874023, 15.091840744018555, 15.089449882507324, 15.087072372436523, 15.084724426269531, 15.08240795135498, 15.080111503601074, 15.077840805053711, 15.07560920715332, 15.073387145996094, 15.071189880371094, 15.069025993347168, 15.066884994506836, 15.064764022827148, 15.06267261505127, 15.06059741973877]}\n"
     ]
    }
   ],
   "source": [
    "print(x.history)"
   ]
  },
  {
   "cell_type": "code",
   "execution_count": 12,
   "metadata": {},
   "outputs": [
    {
     "data": {
      "text/plain": [
       "<Axes: >"
      ]
     },
     "execution_count": 12,
     "metadata": {},
     "output_type": "execute_result"
    },
    {
     "data": {
      "image/png": "[encoded data removed]",
      "text/plain": [
       "<Figure size 640x480 with 1 Axes>"
      ]
     },
     "metadata": {},
     "output_type": "display_data"
    }
   ],
   "source": [
    "import seaborn as sns\n",
    "sns.lineplot(data=x.history['loss'])"
   ]
  },
  {
   "cell_type": "code",
   "execution_count": 13,
   "metadata": {},
   "outputs": [
    {
     "name": "stdout",
     "output_type": "stream",
     "text": [
      "1/1 [==============================] - 0s 41ms/step\n"
     ]
    },
    {
     "data": {
      "text/plain": [
       "array([[66.1353]], dtype=float32)"
      ]
     },
     "execution_count": 13,
     "metadata": {},
     "output_type": "execute_result"
    }
   ],
   "source": [
    "model.predict([10])"
   ]
  },
  {
   "cell_type": "markdown",
   "metadata": {
    "id": "btF2CSFH2iEX"
   },
   "source": [
    "You might have thought 65, right? But it ended up being a little over. Why do you think that is? \n",
    "\n",
    "Remember that neural networks deal with probabilities, so given the data that we fed the NN with, it calculated that there is a very high probability that the relationship between X and Y is Y = 5.12 * x + 14.45, but with only 10 data points we can't know for sure. As a result, the result for 10 is very close to 65, but not necessarily 65. \n",
    "\n",
    "As you work with neural networks, you'll see this pattern recurring. You will almost always deal with probabilities, not certainties, and will do a little bit of coding to figure out what the result is based on the probabilities, particularly when it comes to classification.\n"
   ]
  }
 ],
 "metadata": {
  "colab": {
   "collapsed_sections": [],
   "name": "Notebook1.1.ipynb",
   "provenance": [],
   "toc_visible": true
  },
  "kernelspec": {
   "display_name": "Python 3 (ipykernel)",
   "language": "python",
   "name": "python3"
  },
  "language_info": {
   "codemirror_mode": {
    "name": "ipython",
    "version": 3
   },
   "file_extension": ".py",
   "mimetype": "text/x-python",
   "name": "python",
   "nbconvert_exporter": "python",
   "pygments_lexer": "ipython3",
   "version": "3.10.11"
  }
 },
 "nbformat": 4,
 "nbformat_minor": 4
}
