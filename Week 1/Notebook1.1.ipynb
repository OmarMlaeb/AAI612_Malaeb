{
  "cells": [
    {
      "cell_type": "markdown",
      "metadata": {
        "id": "K0wTf_TUa1Qt"
      },
      "source": [
        "\n",
        "# AAI612: Deep Learning & its Applications\n",
        "\n",
        "*Notebook 1.1: Using the perceptron for linear fitting*\n",
        "\n",
        "<a href=\"https://colab.research.google.com/github/OmarMlaeb/AAI612_Malaeb/blob/main/Week1/Notebook1.1.ipynb\" target=\"_parent\"><img src=\"https://colab.research.google.com/assets/colab-badge.svg\" alt=\"Open In Colab\"/></a>"
      ]
    },
    {
      "cell_type": "markdown",
      "metadata": {
        "id": "ZIAkIlfmCe1B"
      },
      "source": [
        "Notebook 1.1"
      ]
    },
    {
      "cell_type": "markdown",
      "metadata": {
        "id": "fA93WUy1zzWf"
      },
      "source": [
        "In this notebook, we will perform linear regression using a single neuron.  We will be using `TensorFlow` and `Keras`; however, do not worry about the details of the language for the moment as we will get back to these later on.\n",
        "\n",
        "The simple mode we will be looking at will learn the relationship between two numbers and will be used to predict other numbers. For example, if you were writing code for a function like this:\n",
        "\n",
        "\n",
        "```\n",
        "y = mx + b\n",
        "```\n",
        "\n",
        "How would you train a neural network to do the equivalent task? Well, we said using data, a lot of data! The approach is to feed the model with a set of Xs, and a set of Ys, it should be able to figure out the relationship between them."
      ]
    },
    {
      "cell_type": "markdown",
      "metadata": {
        "id": "u3bU7mPna1Qu"
      },
      "source": [
        "# Linear Regression"
      ]
    },
    {
      "cell_type": "markdown",
      "metadata": {
        "id": "E2nHEpBfa1Qv"
      },
      "source": [
        "Let us start by linear regression.   Assume we have the following simple dataset.  We can easily fit using `polyfit():`"
      ]
    },
    {
      "cell_type": "code",
      "execution_count": null,
      "metadata": {
        "id": "t9D6Opqja1Qv"
      },
      "outputs": [],
      "source": [
        "from numpy.polynomial.polynomial import polyfit\n",
        "import matplotlib.pyplot as plt\n",
        "import numpy as np\n",
        "import pandas as pd\n",
        "\n",
        "\n",
        "# x = np.array([ 0,  1,  2,  3,  4,  5,  6,  7,  8,  9])\n",
        "# y = np.array([10, 20, 25, 30, 40, 45, 40, 50, 60, 55])\n",
        "\n",
        "data = pd.read_csv(\"https://raw.githubusercontent.com/harmanani/AAI612/refs/heads/main/Week1/nelson.csv\")\n",
        "\n",
        "# Extract columns\n",
        "prices = data[\"y\"].values.astype(float)  # Prices in $1000\n",
        "distances = data[\"x1\"].values.astype(float)  # Distance from downtown\n",
        "sizes = data[\"x2\"].values.astype(float)"
      ]
    },
    {
      "cell_type": "markdown",
      "metadata": {
        "id": "LutBCKvga1Qv"
      },
      "source": [
        "Let us explore the data!"
      ]
    },
    {
      "cell_type": "code",
      "execution_count": null,
      "metadata": {
        "colab": {
          "base_uri": "https://localhost:8080/",
          "height": 430
        },
        "id": "6rLXl8ija1Qv",
        "outputId": "8b3fbc71-512f-4359-b0d3-70743200e36c"
      },
      "outputs": [
        {
          "output_type": "display_data",
          "data": {
            "text/plain": [
              "<Figure size 640x480 with 1 Axes>"
            ],
            "image/png": "[encoded data removed]"
          },
          "metadata": {}
        }
      ],
      "source": [
        "plt.plot(distances, prices, '.')\n",
        "plt.show()"
      ]
    },
    {
      "cell_type": "markdown",
      "metadata": {
        "id": "ExQCTgUZa1Qw"
      },
      "source": [
        "Now, let us see how we can best fit this data using the `polyfit`:"
      ]
    },
    {
      "cell_type": "code",
      "execution_count": null,
      "metadata": {
        "id": "OkXAz4vga1Qw"
      },
      "outputs": [],
      "source": [
        "# b, m = polyfit(x,y,1)\n",
        "\n",
        "# y_hat = m*x+b\n",
        "\n",
        "b, m = polyfit(distances, prices, 1)\n",
        "\n",
        "y_hat = m * distances + b"
      ]
    },
    {
      "cell_type": "markdown",
      "metadata": {
        "id": "PB5dXJena1Qw"
      },
      "source": [
        "The above data fit results with the following equation:"
      ]
    },
    {
      "cell_type": "code",
      "execution_count": null,
      "metadata": {
        "colab": {
          "base_uri": "https://localhost:8080/"
        },
        "id": "Nbfd4Gqna1Qw",
        "outputId": "5b04de55-718c-4286-98ab-3f2e84f18911"
      },
      "outputs": [
        {
          "output_type": "stream",
          "name": "stdout",
          "text": [
            "Equation that best fits the data is: Y = -5.38 * x + 71.84\n"
          ]
        }
      ],
      "source": [
        "print(\"Equation that best fits the data is: Y = %2.2f * x + %5.2f\" % (m,b))"
      ]
    },
    {
      "cell_type": "markdown",
      "metadata": {
        "id": "R3msWJrea1Qw"
      },
      "source": [
        "and now, let us see how it fits visually:"
      ]
    },
    {
      "cell_type": "code",
      "execution_count": null,
      "metadata": {
        "colab": {
          "base_uri": "https://localhost:8080/",
          "height": 430
        },
        "id": "naBgL6rVa1Qw",
        "outputId": "097cc0bc-ae58-479c-fc06-dc5955fc9151"
      },
      "outputs": [
        {
          "output_type": "display_data",
          "data": {
            "text/plain": [
              "<Figure size 640x480 with 1 Axes>"
            ],
            "image/png": "[encoded data removed]"
          },
          "metadata": {}
        }
      ],
      "source": [
        "# plt.plot(x, y, '.')\n",
        "# plt.plot(x, y_hat, '-')\n",
        "# plt.show()\n",
        "\n",
        "plt.plot(distances, prices, '.')\n",
        "plt.plot(distances, y_hat, '-')\n",
        "plt.show()"
      ]
    },
    {
      "cell_type": "markdown",
      "metadata": {
        "id": "c2GrPBIBa1Qw"
      },
      "source": [
        "Let us predict y for x = 10"
      ]
    },
    {
      "cell_type": "code",
      "execution_count": null,
      "metadata": {
        "colab": {
          "base_uri": "https://localhost:8080/"
        },
        "id": "QAs3EWkDa1Qw",
        "outputId": "5105a0f3-1ec6-4a55-c8f1-fae530ca413d"
      },
      "outputs": [
        {
          "output_type": "stream",
          "name": "stdout",
          "text": [
            "Predicted price (distance model) in dollars: $ 18051.555812052156\n"
          ]
        }
      ],
      "source": [
        "# x = 10\n",
        "# print(m*x+b)\n",
        "\n",
        "test_distance = 10\n",
        "print(\"Predicted price (distance model) in dollars: $\", (m * test_distance + b) * 1000)"
      ]
    },
    {
      "cell_type": "markdown",
      "metadata": {
        "id": "K1uIgl6Ha1Qw"
      },
      "source": [
        "Now, let us try this all over again using one neuron.  We will be using `Keras` and `TesnorFlow`."
      ]
    },
    {
      "cell_type": "markdown",
      "metadata": {
        "id": "DzbtdRcZDO9B"
      },
      "source": [
        "## Imports\n",
        "\n",
        "Let's start with our imports. Here we are importing 'TensorFlow' and calling it tf for ease of use.  We do of course need to import `numpy`, which helps us to represent our data as lists easily and quickly.  Finally, the framework for defining a neural network as a set of Sequential layers is called keras, so we import that too."
      ]
    },
    {
      "cell_type": "code",
      "execution_count": null,
      "metadata": {
        "id": "X9uIpOS2zx7k",
        "colab": {
          "base_uri": "https://localhost:8080/"
        },
        "outputId": "32596fb3-edac-45f2-b2d0-71dacd1082ef"
      },
      "outputs": [
        {
          "output_type": "stream",
          "name": "stdout",
          "text": [
            "2.18.0\n"
          ]
        }
      ],
      "source": [
        "import tensorflow as tf\n",
        "import numpy as np\n",
        "from tensorflow import keras\n",
        "\n",
        "print(tf.__version__)"
      ]
    },
    {
      "cell_type": "markdown",
      "metadata": {
        "id": "wwJGmDrQ0EoB"
      },
      "source": [
        "## Define and Compile the Neural Network\n",
        "\n",
        "Next we will create the simplest possible neural network. It has 1 layer, and that layer has 1 neuron, and the input shape to it is just 1 value."
      ]
    },
    {
      "cell_type": "code",
      "execution_count": null,
      "metadata": {
        "id": "kQFAr_xo0M4T",
        "colab": {
          "base_uri": "https://localhost:8080/"
        },
        "outputId": "b4d4c171-c2de-400c-d482-8cf3adbba441"
      },
      "outputs": [
        {
          "output_type": "stream",
          "name": "stderr",
          "text": [
            "/usr/local/lib/python3.11/dist-packages/keras/src/layers/core/dense.py:87: UserWarning: Do not pass an `input_shape`/`input_dim` argument to a layer. When using Sequential models, prefer using an `Input(shape)` object as the first layer in the model instead.\n",
            "  super().__init__(activity_regularizer=activity_regularizer, **kwargs)\n"
          ]
        }
      ],
      "source": [
        "model = tf.keras.Sequential([keras.layers.Dense(units=1, input_shape=[1])])"
      ]
    },
    {
      "cell_type": "markdown",
      "metadata": {
        "id": "KhjZjZ-c0Ok9"
      },
      "source": [
        "Now we compile our Neural Network. When we do so, we have to specify 2 functions, a loss and an optimizer.\n",
        "\n",
        "If you've seen lots of math for machine learning, here's where it's usually used, but in this case it's nicely encapsulated in functions for you. But what happens here — let's explain...\n",
        "\n",
        "We know that in our function, the relationship between the numbers is Y = 5.12 * x + 14.45.\n",
        "\n",
        "When the computer is trying to 'learn' that, it makes a guess...maybe y=10x+10. The LOSS function measures the guessed answers against the known correct answers and measures how well or how badly it did.\n",
        "\n",
        "It then uses the OPTIMIZER function to make another guess. Based on how the loss function went, it will try to minimize the loss. At that point maybe it will come up with somehting like y=5x+5, which, while still pretty bad, is closer to the correct result (i.e. the loss is lower)\n",
        "\n",
        "It will repeat this for the number of EPOCHS which you will see shortly. But first, here's how we tell it to use 'MEAN SQUARED ERROR' for the loss and 'STOCHASTIC GRADIENT DESCENT' for the optimizer. You don't need to understand the math for these yet, but you can see that they work! :)\n",
        "\n",
        "Over time you will learn the different and appropriate loss and optimizer functions for different scenarios.\n"
      ]
    },
    {
      "cell_type": "code",
      "execution_count": null,
      "metadata": {
        "id": "m8YQN1H41L-Y"
      },
      "outputs": [],
      "source": [
        "model.compile(optimizer='sgd', loss='mean_squared_error')"
      ]
    },
    {
      "cell_type": "markdown",
      "metadata": {
        "id": "5QyOUhFw1OUX"
      },
      "source": [
        "## Providing the Data\n",
        "\n",
        "Next up we'll feed in some data. In this case we are taking 6 xs and 6ys. You can see that the relationship between these is that y=2x-1, so where x = -1, y=-3 etc. etc.\n",
        "\n",
        "A python library called 'Numpy' provides lots of array type data structures that are a defacto standard way of doing it. We declare that we want to use these by specifying the values as an np.array[]"
      ]
    },
    {
      "cell_type": "markdown",
      "metadata": {
        "id": "lWsDTevka1Qx"
      },
      "source": [
        "### Let us try this dataset!"
      ]
    },
    {
      "cell_type": "markdown",
      "metadata": {
        "id": "tgr6Msrta1Qx"
      },
      "source": [
        "Comment the above data set and try this one now:"
      ]
    },
    {
      "cell_type": "code",
      "execution_count": null,
      "metadata": {
        "id": "sd7eCNsVa1Qx"
      },
      "outputs": [],
      "source": [
        "# xs = np.array([ 0,  1,  2,  3,  4,  5,  6,  7,  8,  9])\n",
        "# ys = np.array([10, 20, 25, 30, 40, 45, 40, 50, 60, 55])\n",
        "\n",
        "from sklearn.preprocessing import StandardScaler\n",
        "\n",
        "# Ensure Data is 2D\n",
        "prices = prices.reshape(-1, 1)\n",
        "sizes = sizes.reshape(-1, 1)\n",
        "\n",
        "# Scale Data\n",
        "scaler_x = StandardScaler()\n",
        "scaler_y = StandardScaler()\n",
        "sizes_scaled = scaler_x.fit_transform(sizes)\n",
        "prices_scaled = scaler_y.fit_transform(prices)\n",
        "\n",
        "## scaled the data using StandardScaler to make training more stable having zero mean and unit variance.\n",
        "## because when not scaled the predicted value is giving nan due to high range between price and size"
      ]
    },
    {
      "cell_type": "markdown",
      "metadata": {
        "id": "n_YcWRElnM_b"
      },
      "source": [
        "# Training the Neural Network"
      ]
    },
    {
      "cell_type": "markdown",
      "metadata": {
        "id": "c-Jk4dG91dvD"
      },
      "source": [
        "The process of training the neural network, where it 'learns' the relationship between the Xs and Ys is in the **model.fit**  call. This is where it will go through the loop we spoke about above, making a guess, measuring how good or bad it is (aka the loss), using the opimizer to make another guess etc. It will do it for the number of epochs you specify. When you run this code, you'll see the loss on the right hand side."
      ]
    },
    {
      "cell_type": "code",
      "execution_count": null,
      "metadata": {
        "id": "lpRrl7WK10Pq"
      },
      "outputs": [],
      "source": [
        "from keras.callbacks import History\n",
        "history = History()\n",
        "\n",
        "# x = model.fit(xs, ys, epochs=500, callbacks=[history], verbose=0)\n",
        "\n",
        "x = model.fit(sizes_scaled, prices_scaled, epochs=500, callbacks=[history], verbose=0)"
      ]
    },
    {
      "cell_type": "markdown",
      "metadata": {
        "id": "kaFIr71H2OZ-"
      },
      "source": [
        "Ok, that we have a model that we have trained to learn the relationship between X and Y, we can use the **model.predict** method to have it figure out the Y for a previously unknown X. So, for example, if X = 2, what do you think Y will be? Take a guess before you run this code:"
      ]
    },
    {
      "cell_type": "code",
      "execution_count": null,
      "metadata": {
        "colab": {
          "base_uri": "https://localhost:8080/"
        },
        "id": "9gEuDsoAa1Qx",
        "outputId": "3712a176-994c-444a-be20-575b35f4eb74"
      },
      "outputs": [
        {
          "output_type": "stream",
          "name": "stdout",
          "text": [
            "{'loss': [2.403730630874634, 2.343975305557251, 2.286586046218872, 2.2314696311950684, 2.1785356998443604, 2.127697706222534, 2.0788733959198, 2.031982183456421, 1.986948013305664, 1.943697452545166, 1.9021590948104858, 1.8622660636901855, 1.8239526748657227, 1.787156581878662, 1.7518173456192017, 1.7178778648376465, 1.6852823495864868, 1.653977394104004, 1.6239124536514282, 1.595037817955017, 1.5673065185546875, 1.5406736135482788, 1.5150952339172363, 1.4905296564102173, 1.4669371843338013, 1.4442790746688843, 1.4225177764892578, 1.401618480682373, 1.3815468549728394, 1.3622699975967407, 1.3437563180923462, 1.325976014137268, 1.3088996410369873, 1.2924995422363281, 1.2767490148544312, 1.2616220712661743, 1.2470941543579102, 1.233141541481018, 1.2197415828704834, 1.2068722248077393, 1.1945122480392456, 1.1826421022415161, 1.1712417602539062, 1.1602929830551147, 1.1497777700424194, 1.1396788358688354, 1.1299799680709839, 1.1206650733947754, 1.1117191314697266, 1.103127360343933, 1.0948759317398071, 1.0869512557983398, 1.0793401002883911, 1.0720306634902954, 1.065010666847229, 1.0582685470581055, 1.0517934560775757, 1.0455747842788696, 1.0396023988723755, 1.03386652469635, 1.0283576250076294, 1.0230671167373657, 1.0179859399795532, 1.0131059885025024, 1.008419394493103, 1.0039185285568237, 0.999595582485199, 0.9954439997673035, 0.9914567470550537, 0.9876274466514587, 0.9839498400688171, 0.9804177284240723, 0.9770255088806152, 0.9737675786018372, 0.9706387519836426, 0.9676339030265808, 0.9647478461265564, 0.9619762301445007, 0.9593142867088318, 0.9567578434944153, 0.9543025493621826, 0.9519446492195129, 0.9496799111366272, 0.947504997253418, 0.9454161524772644, 0.9434099197387695, 0.9414832592010498, 0.9396328926086426, 0.9378557205200195, 0.9361490607261658, 0.9345099925994873, 0.9329356551170349, 0.9314237236976624, 0.9299716949462891, 0.9285772442817688, 0.9272379875183105, 0.9259516596794128, 0.9247162938117981, 0.9235299229621887, 0.9223904609680176, 0.9212961792945862, 0.9202452301979065, 0.91923588514328, 0.9182664752006531, 0.9173355102539062, 0.9164413809776306, 0.9155825972557068, 0.9147579073905945, 0.9139657616615295, 0.9132052063941956, 0.9124745726585388, 0.9117729663848877, 0.9110991358757019, 0.9104518890380859, 0.9098303318023682, 0.9092333912849426, 0.9086601138114929, 0.9081096053123474, 0.9075807929039001, 0.9070730209350586, 0.9065852165222168, 0.906116783618927, 0.9056668877601624, 0.9052348136901855, 0.9048199653625488, 0.9044215083122253, 0.904038667678833, 0.9036710858345032, 0.9033181071281433, 0.9029790759086609, 0.9026534557342529, 0.902340829372406, 0.902040421962738, 0.9017519950866699, 0.9014749526977539, 0.9012088179588318, 0.9009532928466797, 0.900708019733429, 0.9004723429679871, 0.9002459645271301, 0.9000285267829895, 0.8998197913169861, 0.8996193408966064, 0.8994267582893372, 0.8992417454719543, 0.8990642428398132, 0.8988935947418213, 0.8987297415733337, 0.8985724449157715, 0.8984212875366211, 0.898276150226593, 0.8981367945671082, 0.8980029225349426, 0.8978743553161621, 0.8977509140968323, 0.8976323008537292, 0.8975183963775635, 0.8974090218544006, 0.8973039984703064, 0.8972031474113464, 0.8971062302589417, 0.8970131874084473, 0.8969237804412842, 0.8968378901481628, 0.8967556357383728, 0.8966763615608215, 0.8966004252433777, 0.8965273499488831, 0.8964571952819824, 0.8963897824287415, 0.8963251709938049, 0.896263062953949, 0.8962034583091736, 0.8961461186408997, 0.8960911631584167, 0.8960382342338562, 0.8959875106811523, 0.8959386944770813, 0.8958918452262878, 0.8958469033241272, 0.8958037495613098, 0.8957622647285461, 0.8957223892211914, 0.8956842422485352, 0.8956474661827087, 0.8956121802330017, 0.8955783247947693, 0.8955457210540771, 0.8955144882202148, 0.895484447479248, 0.8954556584358215, 0.8954280018806458, 0.8954012989997864, 0.8953759074211121, 0.895351231098175, 0.8953277468681335, 0.8953050971031189, 0.8952834606170654, 0.8952625393867493, 0.89524245262146, 0.8952233195304871, 0.8952047228813171, 0.8951869606971741, 0.8951699733734131, 0.8951535820960999, 0.8951379656791687, 0.895122766494751, 0.8951082229614258, 0.8950943350791931, 0.8950810432434082, 0.8950681090354919, 0.8950557708740234, 0.8950438499450684, 0.8950325846672058, 0.8950216174125671, 0.8950111269950867, 0.8950009942054749, 0.8949913382530212, 0.8949820399284363, 0.89497309923172, 0.8949645161628723, 0.8949562907218933, 0.8949483036994934, 0.8949406743049622, 0.8949335217475891, 0.8949264883995056, 0.8949196934700012, 0.8949132561683655, 0.8949070572853088, 0.8949010968208313, 0.8948953747749329, 0.8948898315429688, 0.8948845863342285, 0.8948795199394226, 0.8948745727539062, 0.8948699831962585, 0.8948655128479004, 0.8948611617088318, 0.8948569893836975, 0.8948530554771423, 0.8948491215705872, 0.8948455452919006, 0.8948419690132141, 0.8948386311531067, 0.8948354125022888, 0.8948323130607605, 0.894829273223877, 0.894826352596283, 0.8948235511779785, 0.8948209285736084, 0.8948183655738831, 0.8948159217834473, 0.8948135375976562, 0.8948113322257996, 0.8948090672492981, 0.8948070406913757, 0.8948050141334534, 0.8948031067848206, 0.8948013186454773, 0.8947994709014893, 0.8947978019714355, 0.8947961330413818, 0.8947945237159729, 0.8947930335998535, 0.8947916030883789, 0.8947902321815491, 0.894788920879364, 0.8947877287864685, 0.8947863578796387, 0.8947852253913879, 0.894784152507782, 0.8947830200195312, 0.8947820067405701, 0.8947809338569641, 0.8947799801826477, 0.8947790265083313, 0.8947781920433044, 0.8947772979736328, 0.8947764039039612, 0.8947756290435791, 0.894774854183197, 0.8947741389274597, 0.8947734832763672, 0.8947728276252747, 0.8947722315788269, 0.8947715759277344, 0.8947709202766418, 0.8947703242301941, 0.8947698473930359, 0.8947692513465881, 0.8947687149047852, 0.894768238067627, 0.8947678208351135, 0.8947672843933105, 0.8947669863700867, 0.8947665691375732, 0.894766092300415, 0.8947656750679016, 0.8947653770446777, 0.8947650790214539, 0.8947647213935852, 0.8947643637657166, 0.8947641253471375, 0.894763708114624, 0.8947634696960449, 0.8947632312774658, 0.8947629928588867, 0.8947627544403076, 0.8947623372077942, 0.8947622179985046, 0.8947620391845703, 0.8947617411613464, 0.8947615027427673, 0.8947613835334778, 0.8947611451148987, 0.8947608470916748, 0.89476078748703, 0.8947606086730957, 0.8947604298591614, 0.8947603106498718, 0.8947601318359375, 0.8947599530220032, 0.8947598338127136, 0.8947597146034241, 0.8947595953941345, 0.894759476184845, 0.8947593569755554, 0.8947591781616211, 0.8947591185569763, 0.8947589993476868, 0.8947589993476868, 0.8947588801383972, 0.8947587013244629, 0.8947586417198181, 0.8947585225105286, 0.8947584629058838, 0.894758403301239, 0.894758403301239, 0.8947582244873047, 0.8947581648826599, 0.8947581648826599, 0.8947580456733704, 0.8947579264640808, 0.8947579860687256, 0.8947578072547913, 0.8947577476501465, 0.8947577476501465, 0.8947577476501465, 0.8947577476501465, 0.8947575688362122, 0.8947575092315674, 0.8947575092315674, 0.8947574496269226, 0.8947574496269226, 0.8947574496269226, 0.8947573304176331, 0.8947573304176331, 0.8947572708129883, 0.8947572708129883, 0.8947572708129883, 0.8947572112083435, 0.8947572112083435, 0.894757091999054, 0.894757091999054, 0.894757091999054, 0.894757091999054, 0.8947570323944092, 0.8947569727897644, 0.8947570323944092, 0.8947569727897644, 0.8947569727897644, 0.8947569727897644, 0.8947568535804749, 0.8947568535804749, 0.8947568535804749, 0.8947568535804749, 0.8947567939758301, 0.8947567939758301, 0.8947567939758301, 0.8947568535804749, 0.8947567939758301, 0.8947567939758301, 0.8947567939758301, 0.8947567939758301, 0.8947567343711853, 0.8947567343711853, 0.8947567343711853, 0.8947566151618958, 0.8947567343711853, 0.8947566151618958, 0.8947567343711853, 0.8947566151618958, 0.8947566151618958, 0.8947566151618958, 0.8947566151618958, 0.8947566151618958, 0.8947566151618958, 0.8947566151618958, 0.8947566151618958, 0.894756555557251, 0.8947566151618958, 0.8947566151618958, 0.8947566151618958, 0.8947566151618958, 0.8947566151618958, 0.8947566151618958, 0.894756555557251, 0.8947566151618958, 0.894756555557251, 0.8947564959526062, 0.8947566151618958, 0.894756555557251, 0.894756555557251, 0.894756555557251, 0.8947566151618958, 0.894756555557251, 0.894756555557251, 0.8947566151618958, 0.894756555557251, 0.894756555557251, 0.894756555557251, 0.8947564959526062, 0.8947564959526062, 0.894756555557251, 0.894756555557251, 0.894756555557251, 0.8947564959526062, 0.8947564959526062, 0.894756555557251, 0.8947564959526062, 0.894756555557251, 0.894756555557251, 0.8947564959526062, 0.8947564959526062, 0.8947564959526062, 0.894756555557251, 0.8947564959526062, 0.8947564959526062, 0.8947564959526062, 0.894756555557251, 0.8947564959526062, 0.894756555557251, 0.8947564959526062, 0.8947564959526062, 0.8947564959526062, 0.8947564959526062, 0.8947564959526062, 0.8947564959526062, 0.8947564959526062, 0.8947564959526062, 0.8947564959526062, 0.8947564959526062, 0.8947564959526062, 0.8947564959526062, 0.8947564959526062, 0.8947564959526062, 0.8947564959526062, 0.8947564959526062, 0.8947564959526062, 0.8947564959526062, 0.8947564959526062, 0.8947564959526062, 0.8947564959526062, 0.8947564959526062, 0.894756555557251, 0.8947564959526062, 0.8947564959526062, 0.8947564959526062, 0.894756555557251, 0.8947564959526062, 0.8947564959526062, 0.894756555557251, 0.8947564959526062, 0.8947564959526062, 0.8947564959526062, 0.8947564959526062, 0.8947564959526062, 0.8947564959526062, 0.894756555557251, 0.8947564959526062, 0.8947564959526062, 0.8947564959526062, 0.8947564959526062, 0.8947564959526062, 0.8947564959526062, 0.8947564959526062, 0.894756555557251, 0.894756555557251, 0.8947564959526062, 0.8947563767433167, 0.8947564959526062, 0.8947564959526062, 0.894756555557251, 0.8947564959526062, 0.8947564959526062, 0.8947564959526062, 0.8947564959526062, 0.8947564959526062, 0.8947564959526062, 0.8947564959526062]}\n"
          ]
        }
      ],
      "source": [
        "print(x.history)"
      ]
    },
    {
      "cell_type": "code",
      "execution_count": null,
      "metadata": {
        "colab": {
          "base_uri": "https://localhost:8080/",
          "height": 447
        },
        "id": "Vsf8qXl_a1Qx",
        "outputId": "182b5e1b-4dd7-4928-f080-8cc7abc89335"
      },
      "outputs": [
        {
          "output_type": "execute_result",
          "data": {
            "text/plain": [
              "<Axes: >"
            ]
          },
          "metadata": {},
          "execution_count": 140
        },
        {
          "output_type": "display_data",
          "data": {
            "text/plain": [
              "<Figure size 640x480 with 1 Axes>"
            ],
            "image/png": "[encoded data removed]"
          },
          "metadata": {}
        }
      ],
      "source": [
        "import seaborn as sns\n",
        "sns.lineplot(data=x.history['loss'])"
      ]
    },
    {
      "cell_type": "code",
      "execution_count": null,
      "metadata": {
        "colab": {
          "base_uri": "https://localhost:8080/"
        },
        "id": "uBicYGg0a1Qx",
        "outputId": "8310f0ae-960c-41bb-bf36-d3f823bc30ab"
      },
      "outputs": [
        {
          "output_type": "stream",
          "name": "stdout",
          "text": [
            "\u001b[1m1/1\u001b[0m \u001b[32m━━━━━━━━━━━━━━━━━━━━\u001b[0m\u001b[37m\u001b[0m \u001b[1m0s\u001b[0m 81ms/step\n",
            "Predicted price (size model) in dollars: $ 50691.856384277344\n"
          ]
        }
      ],
      "source": [
        "# model.predict([10])\n",
        "test_size_scaled = scaler_x.transform([[100.0]])\n",
        "predicted_price_scaled = model.predict(test_size_scaled)\n",
        "predicted_price = scaler_y.inverse_transform(predicted_price_scaled)\n",
        "\n",
        "print(\"Predicted price (size model) in dollars: $\", predicted_price[0][0] * 1000)"
      ]
    },
    {
      "cell_type": "markdown",
      "metadata": {
        "id": "btF2CSFH2iEX"
      },
      "source": [
        "You might have thought 65, right? But it ended up being a little over. Why do you think that is?\n",
        "\n",
        "Remember that neural networks deal with probabilities, so given the data that we fed the NN with, it calculated that there is a very high probability that the relationship between X and Y is Y = 5.12 * x + 14.45, but with only 10 data points we can't know for sure. As a result, the result for 10 is very close to 65, but not necessarily 65.\n",
        "\n",
        "As you work with neural networks, you'll see this pattern recurring. You will almost always deal with probabilities, not certainties, and will do a little bit of coding to figure out what the result is based on the probabilities, particularly when it comes to classification.\n"
      ]
    }
  ],
  "metadata": {
    "colab": {
      "provenance": []
    },
    "kernelspec": {
      "display_name": "Python 3 (ipykernel)",
      "language": "python",
      "name": "python3"
    },
    "language_info": {
      "codemirror_mode": {
        "name": "ipython",
        "version": 3
      },
      "file_extension": ".py",
      "mimetype": "text/x-python",
      "name": "python",
      "nbconvert_exporter": "python",
      "pygments_lexer": "ipython3",
      "version": "3.13.0"
    }
  },
  "nbformat": 4,
  "nbformat_minor": 0
}